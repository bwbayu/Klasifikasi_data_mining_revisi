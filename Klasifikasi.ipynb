{
 "cells": [
  {
   "cell_type": "markdown",
   "id": "507175f4",
   "metadata": {},
   "source": [
    "## Klasifikasi"
   ]
  },
  {
   "cell_type": "markdown",
   "id": "927bfbee",
   "metadata": {},
   "source": [
    "### Import Library"
   ]
  },
  {
   "cell_type": "code",
   "execution_count": 12,
   "id": "cfdda2fd",
   "metadata": {},
   "outputs": [],
   "source": [
    "%matplotlib inline\n",
    "import numpy as np\n",
    "import pandas as pd\n",
    "import matplotlib.pyplot as plt\n",
    "import seaborn as sns\n",
    "# \n",
    "from sklearn.model_selection import train_test_split\n",
    "from sklearn.naive_bayes import GaussianNB\n",
    "from sklearn.metrics import classification_report\n",
    "from sklearn.metrics import accuracy_score\n",
    "from sklearn import tree\n",
    "from sklearn.ensemble import RandomForestClassifier\n",
    "import xgboost as xgb\n",
    "from sklearn.metrics import confusion_matrix\n",
    "from sklearn.model_selection import cross_val_score\n",
    "from sklearn.metrics import make_scorer\n",
    "from sklearn import preprocessing\n",
    "from sklearn.decomposition import PCA"
   ]
  },
  {
   "cell_type": "markdown",
   "id": "7aeb2036",
   "metadata": {},
   "source": [
    "### Read File"
   ]
  },
  {
   "cell_type": "code",
   "execution_count": 13,
   "id": "8a9c4ce0",
   "metadata": {},
   "outputs": [
    {
     "data": {
      "text/html": [
       "<div>\n",
       "<style scoped>\n",
       "    .dataframe tbody tr th:only-of-type {\n",
       "        vertical-align: middle;\n",
       "    }\n",
       "\n",
       "    .dataframe tbody tr th {\n",
       "        vertical-align: top;\n",
       "    }\n",
       "\n",
       "    .dataframe thead th {\n",
       "        text-align: right;\n",
       "    }\n",
       "</style>\n",
       "<table border=\"1\" class=\"dataframe\">\n",
       "  <thead>\n",
       "    <tr style=\"text-align: right;\">\n",
       "      <th></th>\n",
       "      <th>itemID</th>\n",
       "      <th>manufacturerID</th>\n",
       "      <th>price</th>\n",
       "      <th>customerID</th>\n",
       "      <th>returnShipment</th>\n",
       "      <th>age</th>\n",
       "      <th>delivery_time</th>\n",
       "      <th>accountAge</th>\n",
       "      <th>orderYear</th>\n",
       "      <th>orderMonth</th>\n",
       "      <th>...</th>\n",
       "      <th>state_Hesse</th>\n",
       "      <th>state_Lower Saxony</th>\n",
       "      <th>state_Mecklenburg-Western Pomerania</th>\n",
       "      <th>state_North Rhine-Westphalia</th>\n",
       "      <th>state_Rhineland-Palatinate</th>\n",
       "      <th>state_Saarland</th>\n",
       "      <th>state_Saxony</th>\n",
       "      <th>state_Saxony-Anhalt</th>\n",
       "      <th>state_Schleswig-Holstein</th>\n",
       "      <th>state_Thuringia</th>\n",
       "    </tr>\n",
       "  </thead>\n",
       "  <tbody>\n",
       "    <tr>\n",
       "      <th>0</th>\n",
       "      <td>186</td>\n",
       "      <td>25</td>\n",
       "      <td>69.90</td>\n",
       "      <td>794</td>\n",
       "      <td>0</td>\n",
       "      <td>48.0</td>\n",
       "      <td>2.0</td>\n",
       "      <td>981</td>\n",
       "      <td>2012</td>\n",
       "      <td>4</td>\n",
       "      <td>...</td>\n",
       "      <td>0</td>\n",
       "      <td>0</td>\n",
       "      <td>0</td>\n",
       "      <td>0</td>\n",
       "      <td>0</td>\n",
       "      <td>0</td>\n",
       "      <td>0</td>\n",
       "      <td>0</td>\n",
       "      <td>0</td>\n",
       "      <td>0</td>\n",
       "    </tr>\n",
       "    <tr>\n",
       "      <th>1</th>\n",
       "      <td>71</td>\n",
       "      <td>21</td>\n",
       "      <td>69.95</td>\n",
       "      <td>794</td>\n",
       "      <td>1</td>\n",
       "      <td>48.0</td>\n",
       "      <td>2.0</td>\n",
       "      <td>981</td>\n",
       "      <td>2012</td>\n",
       "      <td>4</td>\n",
       "      <td>...</td>\n",
       "      <td>0</td>\n",
       "      <td>0</td>\n",
       "      <td>0</td>\n",
       "      <td>0</td>\n",
       "      <td>0</td>\n",
       "      <td>0</td>\n",
       "      <td>0</td>\n",
       "      <td>0</td>\n",
       "      <td>0</td>\n",
       "      <td>0</td>\n",
       "    </tr>\n",
       "    <tr>\n",
       "      <th>2</th>\n",
       "      <td>71</td>\n",
       "      <td>21</td>\n",
       "      <td>69.95</td>\n",
       "      <td>794</td>\n",
       "      <td>1</td>\n",
       "      <td>48.0</td>\n",
       "      <td>2.0</td>\n",
       "      <td>981</td>\n",
       "      <td>2012</td>\n",
       "      <td>4</td>\n",
       "      <td>...</td>\n",
       "      <td>0</td>\n",
       "      <td>0</td>\n",
       "      <td>0</td>\n",
       "      <td>0</td>\n",
       "      <td>0</td>\n",
       "      <td>0</td>\n",
       "      <td>0</td>\n",
       "      <td>0</td>\n",
       "      <td>0</td>\n",
       "      <td>0</td>\n",
       "    </tr>\n",
       "    <tr>\n",
       "      <th>3</th>\n",
       "      <td>22</td>\n",
       "      <td>14</td>\n",
       "      <td>39.90</td>\n",
       "      <td>808</td>\n",
       "      <td>0</td>\n",
       "      <td>54.0</td>\n",
       "      <td>11.0</td>\n",
       "      <td>727</td>\n",
       "      <td>2012</td>\n",
       "      <td>4</td>\n",
       "      <td>...</td>\n",
       "      <td>0</td>\n",
       "      <td>0</td>\n",
       "      <td>0</td>\n",
       "      <td>0</td>\n",
       "      <td>0</td>\n",
       "      <td>0</td>\n",
       "      <td>1</td>\n",
       "      <td>0</td>\n",
       "      <td>0</td>\n",
       "      <td>0</td>\n",
       "    </tr>\n",
       "    <tr>\n",
       "      <th>4</th>\n",
       "      <td>151</td>\n",
       "      <td>53</td>\n",
       "      <td>29.90</td>\n",
       "      <td>825</td>\n",
       "      <td>0</td>\n",
       "      <td>49.0</td>\n",
       "      <td>11.0</td>\n",
       "      <td>1049</td>\n",
       "      <td>2012</td>\n",
       "      <td>4</td>\n",
       "      <td>...</td>\n",
       "      <td>0</td>\n",
       "      <td>0</td>\n",
       "      <td>0</td>\n",
       "      <td>0</td>\n",
       "      <td>1</td>\n",
       "      <td>0</td>\n",
       "      <td>0</td>\n",
       "      <td>0</td>\n",
       "      <td>0</td>\n",
       "      <td>0</td>\n",
       "    </tr>\n",
       "  </tbody>\n",
       "</table>\n",
       "<p>5 rows × 63 columns</p>\n",
       "</div>"
      ],
      "text/plain": [
       "   itemID  manufacturerID  price  customerID  returnShipment   age  \\\n",
       "0     186              25  69.90         794               0  48.0   \n",
       "1      71              21  69.95         794               1  48.0   \n",
       "2      71              21  69.95         794               1  48.0   \n",
       "3      22              14  39.90         808               0  54.0   \n",
       "4     151              53  29.90         825               0  49.0   \n",
       "\n",
       "   delivery_time  accountAge  orderYear  orderMonth  ...  state_Hesse  \\\n",
       "0            2.0         981       2012           4  ...            0   \n",
       "1            2.0         981       2012           4  ...            0   \n",
       "2            2.0         981       2012           4  ...            0   \n",
       "3           11.0         727       2012           4  ...            0   \n",
       "4           11.0        1049       2012           4  ...            0   \n",
       "\n",
       "   state_Lower Saxony  state_Mecklenburg-Western Pomerania  \\\n",
       "0                   0                                    0   \n",
       "1                   0                                    0   \n",
       "2                   0                                    0   \n",
       "3                   0                                    0   \n",
       "4                   0                                    0   \n",
       "\n",
       "   state_North Rhine-Westphalia  state_Rhineland-Palatinate  state_Saarland  \\\n",
       "0                             0                           0               0   \n",
       "1                             0                           0               0   \n",
       "2                             0                           0               0   \n",
       "3                             0                           0               0   \n",
       "4                             0                           1               0   \n",
       "\n",
       "   state_Saxony  state_Saxony-Anhalt  state_Schleswig-Holstein  \\\n",
       "0             0                    0                         0   \n",
       "1             0                    0                         0   \n",
       "2             0                    0                         0   \n",
       "3             1                    0                         0   \n",
       "4             0                    0                         0   \n",
       "\n",
       "   state_Thuringia  \n",
       "0                0  \n",
       "1                0  \n",
       "2                0  \n",
       "3                0  \n",
       "4                0  \n",
       "\n",
       "[5 rows x 63 columns]"
      ]
     },
     "execution_count": 13,
     "metadata": {},
     "output_type": "execute_result"
    }
   ],
   "source": [
    "df = pd.read_csv(\"C:\\\\Users\\\\Adin\\\\PYTHON\\\\klasifikasi\\\\dataset_training.csv\")\n",
    "df.head(5)"
   ]
  },
  {
   "cell_type": "code",
   "execution_count": 14,
   "id": "e0a2c6f0",
   "metadata": {},
   "outputs": [
    {
     "name": "stdout",
     "output_type": "stream",
     "text": [
      "<class 'pandas.core.frame.DataFrame'>\n",
      "RangeIndex: 481089 entries, 0 to 481088\n",
      "Data columns (total 63 columns):\n",
      " #   Column                               Non-Null Count   Dtype  \n",
      "---  ------                               --------------   -----  \n",
      " 0   itemID                               481089 non-null  int64  \n",
      " 1   manufacturerID                       481089 non-null  int64  \n",
      " 2   price                                481089 non-null  float64\n",
      " 3   customerID                           481089 non-null  int64  \n",
      " 4   returnShipment                       481089 non-null  int64  \n",
      " 5   age                                  481089 non-null  float64\n",
      " 6   delivery_time                        481089 non-null  float64\n",
      " 7   accountAge                           481089 non-null  int64  \n",
      " 8   orderYear                            481089 non-null  int64  \n",
      " 9   orderMonth                           481089 non-null  int64  \n",
      " 10  return_customerID                    481089 non-null  float64\n",
      " 11  not_return_customerID                481089 non-null  float64\n",
      " 12  return_deliveryTime                  481089 non-null  float64\n",
      " 13  not_return_deliveryTime              481089 non-null  float64\n",
      " 14  return_itemID                        481089 non-null  float64\n",
      " 15  not_return_itemID                    481089 non-null  float64\n",
      " 16  return_manufacturerID                481089 non-null  float64\n",
      " 17  not_return_manufacturerID            481089 non-null  float64\n",
      " 18  return_state                         481089 non-null  float64\n",
      " 19  not_return_state                     481089 non-null  float64\n",
      " 20  price_itemID                         481089 non-null  float64\n",
      " 21  salutation_Company                   481089 non-null  int64  \n",
      " 22  salutation_Family                    481089 non-null  int64  \n",
      " 23  salutation_Mr                        481089 non-null  int64  \n",
      " 24  salutation_Mrs                       481089 non-null  int64  \n",
      " 25  salutation_not reported              481089 non-null  int64  \n",
      " 26  size_L                               481089 non-null  int64  \n",
      " 27  size_M                               481089 non-null  int64  \n",
      " 28  size_S                               481089 non-null  int64  \n",
      " 29  size_UNSIZED                         481089 non-null  int64  \n",
      " 30  size_XL                              481089 non-null  int64  \n",
      " 31  size_XS                              481089 non-null  int64  \n",
      " 32  size_XXL                             481089 non-null  int64  \n",
      " 33  size_XXXL                            481089 non-null  int64  \n",
      " 34  size_XXXXL                           481089 non-null  int64  \n",
      " 35  size_XXXXXL                          481089 non-null  int64  \n",
      " 36  color_black                          481089 non-null  int64  \n",
      " 37  color_blue                           481089 non-null  int64  \n",
      " 38  color_brown                          481089 non-null  int64  \n",
      " 39  color_green                          481089 non-null  int64  \n",
      " 40  color_grey                           481089 non-null  int64  \n",
      " 41  color_orange                         481089 non-null  int64  \n",
      " 42  color_pink                           481089 non-null  int64  \n",
      " 43  color_purple                         481089 non-null  int64  \n",
      " 44  color_red                            481089 non-null  int64  \n",
      " 45  color_white                          481089 non-null  int64  \n",
      " 46  color_yellow                         481089 non-null  int64  \n",
      " 47  state_Baden-Wuerttemberg             481089 non-null  int64  \n",
      " 48  state_Bavaria                        481089 non-null  int64  \n",
      " 49  state_Berlin                         481089 non-null  int64  \n",
      " 50  state_Brandenburg                    481089 non-null  int64  \n",
      " 51  state_Bremen                         481089 non-null  int64  \n",
      " 52  state_Hamburg                        481089 non-null  int64  \n",
      " 53  state_Hesse                          481089 non-null  int64  \n",
      " 54  state_Lower Saxony                   481089 non-null  int64  \n",
      " 55  state_Mecklenburg-Western Pomerania  481089 non-null  int64  \n",
      " 56  state_North Rhine-Westphalia         481089 non-null  int64  \n",
      " 57  state_Rhineland-Palatinate           481089 non-null  int64  \n",
      " 58  state_Saarland                       481089 non-null  int64  \n",
      " 59  state_Saxony                         481089 non-null  int64  \n",
      " 60  state_Saxony-Anhalt                  481089 non-null  int64  \n",
      " 61  state_Schleswig-Holstein             481089 non-null  int64  \n",
      " 62  state_Thuringia                      481089 non-null  int64  \n",
      "dtypes: float64(14), int64(49)\n",
      "memory usage: 231.2 MB\n"
     ]
    }
   ],
   "source": [
    "df.info()"
   ]
  },
  {
   "cell_type": "markdown",
   "id": "77de3456",
   "metadata": {},
   "source": [
    "### Kelas Target"
   ]
  },
  {
   "cell_type": "code",
   "execution_count": 15,
   "id": "09a19805",
   "metadata": {},
   "outputs": [],
   "source": [
    "from sklearn import preprocessing\n",
    "le = preprocessing.LabelEncoder()\n",
    "le.fit(df.returnShipment)\n",
    "Y = le.transform(df.returnShipment) "
   ]
  },
  {
   "cell_type": "code",
   "execution_count": 16,
   "id": "6f43f126",
   "metadata": {},
   "outputs": [
    {
     "data": {
      "text/plain": [
       "[0, 1]"
      ]
     },
     "execution_count": 16,
     "metadata": {},
     "output_type": "execute_result"
    }
   ],
   "source": [
    "list(le.classes_)"
   ]
  },
  {
   "cell_type": "code",
   "execution_count": 17,
   "id": "50fef695",
   "metadata": {},
   "outputs": [],
   "source": [
    "X = df.drop([\"returnShipment\"],axis=1)"
   ]
  },
  {
   "cell_type": "markdown",
   "id": "d1882439",
   "metadata": {},
   "source": [
    "### Split Data"
   ]
  },
  {
   "cell_type": "code",
   "execution_count": 18,
   "id": "72546788",
   "metadata": {},
   "outputs": [],
   "source": [
    "from sklearn.model_selection import train_test_split\n",
    "X_train,X_test,Y_train,Y_test=train_test_split(X,Y,test_size=0.2,random_state=None)"
   ]
  },
  {
   "cell_type": "markdown",
   "id": "badcb079",
   "metadata": {},
   "source": [
    "### Metode Naive Bayes"
   ]
  },
  {
   "cell_type": "code",
   "execution_count": 19,
   "id": "ccdce9ba",
   "metadata": {},
   "outputs": [
    {
     "name": "stdout",
     "output_type": "stream",
     "text": [
      "Akurasi 0.6471450248394272\n",
      "              precision    recall  f1-score   support\n",
      "\n",
      "           0       0.65      0.68      0.66     49694\n",
      "           1       0.64      0.61      0.63     46524\n",
      "\n",
      "    accuracy                           0.65     96218\n",
      "   macro avg       0.65      0.65      0.65     96218\n",
      "weighted avg       0.65      0.65      0.65     96218\n",
      "\n"
     ]
    }
   ],
   "source": [
    "clf = GaussianNB()\n",
    "clf.fit(X_train, Y_train)\n",
    "Y_pred = clf.predict(X_test)\n",
    "acc = accuracy_score(Y_test, Y_pred)\n",
    "print(\"Akurasi {}\".format(acc))\n",
    "print(classification_report(Y_test, Y_pred))"
   ]
  },
  {
   "cell_type": "markdown",
   "id": "8197d4cb",
   "metadata": {},
   "source": [
    "### Metode Decision Tree"
   ]
  },
  {
   "cell_type": "code",
   "execution_count": 20,
   "id": "1d452be0",
   "metadata": {},
   "outputs": [
    {
     "name": "stdout",
     "output_type": "stream",
     "text": [
      "Akurasi 0.6965328732669562\n",
      "              precision    recall  f1-score   support\n",
      "\n",
      "           0       0.71      0.71      0.71     49694\n",
      "           1       0.69      0.68      0.69     46524\n",
      "\n",
      "    accuracy                           0.70     96218\n",
      "   macro avg       0.70      0.70      0.70     96218\n",
      "weighted avg       0.70      0.70      0.70     96218\n",
      "\n"
     ]
    }
   ],
   "source": [
    "clf = tree.DecisionTreeClassifier()\n",
    "clf.fit(X_train, Y_train)\n",
    "Y_pred = clf.predict(X_test)\n",
    "acc = accuracy_score(Y_test, Y_pred)\n",
    "print(\"Akurasi {}\".format(acc))\n",
    "print(classification_report(Y_test, Y_pred))"
   ]
  },
  {
   "cell_type": "markdown",
   "id": "140fe5cd",
   "metadata": {},
   "source": [
    "### Metode XGBOOST"
   ]
  },
  {
   "cell_type": "code",
   "execution_count": 21,
   "id": "c840a34b",
   "metadata": {},
   "outputs": [
    {
     "name": "stdout",
     "output_type": "stream",
     "text": [
      "Akurasi 0.7708952586834065\n",
      "              precision    recall  f1-score   support\n",
      "\n",
      "           0       0.80      0.74      0.77     49694\n",
      "           1       0.74      0.80      0.77     46524\n",
      "\n",
      "    accuracy                           0.77     96218\n",
      "   macro avg       0.77      0.77      0.77     96218\n",
      "weighted avg       0.77      0.77      0.77     96218\n",
      "\n"
     ]
    }
   ],
   "source": [
    "import xgboost as xgb\n",
    "from xgboost import XGBClassifier\n",
    "clf=XGBClassifier(seed = 20, max_depth=10, learning_rate=0.1, n_estimators=100, \n",
    "                  objective='binary:logistic', booster='dart', colsample_bytree = 0.7, \n",
    "                  colsample_bylevel = 0.8, colsample_bynode = 0.8,\n",
    "                 normalize_type = 'forest', sample_type = 'weighted', \n",
    "                  sampling_method = 'gradient_based')\n",
    "\n",
    "clf.fit(X_train, Y_train)\n",
    "Y_pred = clf.predict(X_test)\n",
    "\n",
    "acc = accuracy_score(Y_test, Y_pred)\n",
    "print(\"Akurasi {}\".format(acc))\n",
    "print(classification_report(Y_test, Y_pred))"
   ]
  },
  {
   "cell_type": "markdown",
   "id": "61d2c375",
   "metadata": {},
   "source": [
    "### Metode Random Forest"
   ]
  },
  {
   "cell_type": "markdown",
   "id": "fb68eb5a",
   "metadata": {},
   "source": [
    "##### Parameter Random Forest yang digunakan adalah n_estimator = 100 dan random_state = 123"
   ]
  },
  {
   "cell_type": "code",
   "execution_count": 22,
   "id": "40b8c6b7",
   "metadata": {},
   "outputs": [
    {
     "name": "stdout",
     "output_type": "stream",
     "text": [
      "Akurasi 0.7558460994824253\n",
      "              precision    recall  f1-score   support\n",
      "\n",
      "           0       0.78      0.74      0.76     49694\n",
      "           1       0.73      0.77      0.75     46524\n",
      "\n",
      "    accuracy                           0.76     96218\n",
      "   macro avg       0.76      0.76      0.76     96218\n",
      "weighted avg       0.76      0.76      0.76     96218\n",
      "\n"
     ]
    }
   ],
   "source": [
    "clf = RandomForestClassifier(n_estimators=100, random_state=123)\n",
    "clf.fit(X_train, Y_train)\n",
    "Y_pred = clf.predict(X_test)\n",
    "acc = accuracy_score(Y_test, Y_pred)\n",
    "print(\"Akurasi {}\".format(acc))\n",
    "print(classification_report(Y_test, Y_pred))"
   ]
  },
  {
   "cell_type": "markdown",
   "id": "3ecf4689",
   "metadata": {},
   "source": [
    "##### Menambahkan paramater max_depth pada metode Random Forest dan akurasinya sedikit meningkat"
   ]
  },
  {
   "cell_type": "code",
   "execution_count": 23,
   "id": "e0344faa",
   "metadata": {},
   "outputs": [
    {
     "name": "stdout",
     "output_type": "stream",
     "text": [
      "Akurasi 0.7696896630568085\n",
      "              precision    recall  f1-score   support\n",
      "\n",
      "           0       0.81      0.72      0.76     49694\n",
      "           1       0.73      0.82      0.77     46524\n",
      "\n",
      "    accuracy                           0.77     96218\n",
      "   macro avg       0.77      0.77      0.77     96218\n",
      "weighted avg       0.77      0.77      0.77     96218\n",
      "\n"
     ]
    }
   ],
   "source": [
    "\n",
    "clf = RandomForestClassifier(n_estimators=100, random_state=123, max_depth = 10)\n",
    "clf.fit(X_train, Y_train)\n",
    "Y_pred = clf.predict(X_test)\n",
    "acc = accuracy_score(Y_test, Y_pred)\n",
    "print(\"Akurasi {}\".format(acc))\n",
    "print(classification_report(Y_test, Y_pred))"
   ]
  },
  {
   "cell_type": "markdown",
   "id": "16821ea5",
   "metadata": {},
   "source": [
    "### Importance Features"
   ]
  },
  {
   "cell_type": "markdown",
   "id": "72fcd6e4",
   "metadata": {},
   "source": [
    "#### Melihat atribut yang penting ketika melakukan klasifikasi dengan Random Forest"
   ]
  },
  {
   "cell_type": "code",
   "execution_count": 24,
   "id": "cd0fddb6",
   "metadata": {},
   "outputs": [
    {
     "name": "stdout",
     "output_type": "stream",
     "text": [
      "                           importance\n",
      "not_return_customerID        0.342648\n",
      "return_customerID            0.282794\n",
      "return_deliveryTime          0.085916\n",
      "not_return_deliveryTime      0.079272\n",
      "return_itemID                0.056870\n",
      "not_return_itemID            0.053991\n",
      "delivery_time                0.023796\n",
      "price                        0.016646\n",
      "price_itemID                 0.013006\n",
      "not_return_manufacturerID    0.008874\n",
      "return_manufacturerID        0.008134\n",
      "size_UNSIZED                 0.004116\n",
      "itemID                       0.003557\n",
      "customerID                   0.003024\n",
      "manufacturerID               0.002872\n",
      "age                          0.002814\n",
      "accountAge                   0.002318\n",
      "orderMonth                   0.002084\n",
      "return_state                 0.000759\n",
      "not_return_state             0.000750\n"
     ]
    }
   ],
   "source": [
    "feature_importances = pd.DataFrame(clf.feature_importances_,index = X_train.columns, columns=['importance']).sort_values('importance',ascending=False)\n",
    "\n",
    "print(feature_importances.head(20))"
   ]
  },
  {
   "cell_type": "markdown",
   "id": "67fe5bc1",
   "metadata": {},
   "source": [
    "### Model yang kami gunakan untuk prediksi adalah Model Random Forest & XGBoost"
   ]
  },
  {
   "cell_type": "code",
   "execution_count": 25,
   "id": "c6e1a8fc",
   "metadata": {},
   "outputs": [],
   "source": [
    "#simpan nama kolom untuk keperluan prediksi nanti \n",
    "import pickle\n",
    "with open('C:\\\\Users\\\\Adin\\\\PYTHON\\\\klasifikasi\\\\hasil1_revisi.pickle', 'wb') as fp:\n",
    "    pickle.dump(X_train.columns, fp)"
   ]
  },
  {
   "cell_type": "code",
   "execution_count": 26,
   "id": "1313ace1",
   "metadata": {},
   "outputs": [
    {
     "data": {
      "text/plain": [
       "['C:\\\\Users\\\\Adin\\\\PYTHON\\\\klasifikasi\\\\hasil1_revisi.joblib']"
      ]
     },
     "execution_count": 26,
     "metadata": {},
     "output_type": "execute_result"
    }
   ],
   "source": [
    "import joblib\n",
    "joblib.dump(clf, \"C:\\\\Users\\\\Adin\\\\PYTHON\\\\klasifikasi\\\\hasil1_revisi.joblib\")"
   ]
  }
 ],
 "metadata": {
  "kernelspec": {
   "display_name": "Python 3 (ipykernel)",
   "language": "python",
   "name": "python3"
  },
  "language_info": {
   "codemirror_mode": {
    "name": "ipython",
    "version": 3
   },
   "file_extension": ".py",
   "mimetype": "text/x-python",
   "name": "python",
   "nbconvert_exporter": "python",
   "pygments_lexer": "ipython3",
   "version": "3.9.12"
  }
 },
 "nbformat": 4,
 "nbformat_minor": 5
}
