{
 "cells": [
  {
   "cell_type": "markdown",
   "id": "37d9a543",
   "metadata": {},
   "source": [
    "## Prediction"
   ]
  },
  {
   "cell_type": "markdown",
   "id": "df98f142",
   "metadata": {},
   "source": [
    "### Import Library"
   ]
  },
  {
   "cell_type": "code",
   "execution_count": 1,
   "id": "b77c9acb",
   "metadata": {},
   "outputs": [],
   "source": [
    "import pandas as pd"
   ]
  },
  {
   "cell_type": "markdown",
   "id": "410557a3",
   "metadata": {},
   "source": [
    "### Read Files"
   ]
  },
  {
   "cell_type": "code",
   "execution_count": 2,
   "id": "47ae4be9",
   "metadata": {
    "scrolled": false
   },
   "outputs": [
    {
     "data": {
      "text/html": [
       "<div>\n",
       "<style scoped>\n",
       "    .dataframe tbody tr th:only-of-type {\n",
       "        vertical-align: middle;\n",
       "    }\n",
       "\n",
       "    .dataframe tbody tr th {\n",
       "        vertical-align: top;\n",
       "    }\n",
       "\n",
       "    .dataframe thead th {\n",
       "        text-align: right;\n",
       "    }\n",
       "</style>\n",
       "<table border=\"1\" class=\"dataframe\">\n",
       "  <thead>\n",
       "    <tr style=\"text-align: right;\">\n",
       "      <th></th>\n",
       "      <th>itemID</th>\n",
       "      <th>manufacturerID</th>\n",
       "      <th>price</th>\n",
       "      <th>customerID</th>\n",
       "      <th>age</th>\n",
       "      <th>delivery_time</th>\n",
       "      <th>accountAge</th>\n",
       "      <th>orderYear</th>\n",
       "      <th>orderMonth</th>\n",
       "      <th>return_customerID</th>\n",
       "      <th>...</th>\n",
       "      <th>state_Hesse</th>\n",
       "      <th>state_Lower Saxony</th>\n",
       "      <th>state_Mecklenburg-Western Pomerania</th>\n",
       "      <th>state_North Rhine-Westphalia</th>\n",
       "      <th>state_Rhineland-Palatinate</th>\n",
       "      <th>state_Saarland</th>\n",
       "      <th>state_Saxony</th>\n",
       "      <th>state_Saxony-Anhalt</th>\n",
       "      <th>state_Schleswig-Holstein</th>\n",
       "      <th>state_Thuringia</th>\n",
       "    </tr>\n",
       "  </thead>\n",
       "  <tbody>\n",
       "    <tr>\n",
       "      <th>0</th>\n",
       "      <td>2347</td>\n",
       "      <td>1</td>\n",
       "      <td>89.9</td>\n",
       "      <td>12489</td>\n",
       "      <td>50.0</td>\n",
       "      <td>2.0</td>\n",
       "      <td>617</td>\n",
       "      <td>2013</td>\n",
       "      <td>4</td>\n",
       "      <td>0.333333</td>\n",
       "      <td>...</td>\n",
       "      <td>1</td>\n",
       "      <td>0</td>\n",
       "      <td>0</td>\n",
       "      <td>0</td>\n",
       "      <td>0</td>\n",
       "      <td>0</td>\n",
       "      <td>0</td>\n",
       "      <td>0</td>\n",
       "      <td>0</td>\n",
       "      <td>0</td>\n",
       "    </tr>\n",
       "    <tr>\n",
       "      <th>1</th>\n",
       "      <td>2741</td>\n",
       "      <td>1</td>\n",
       "      <td>99.9</td>\n",
       "      <td>12489</td>\n",
       "      <td>50.0</td>\n",
       "      <td>2.0</td>\n",
       "      <td>617</td>\n",
       "      <td>2013</td>\n",
       "      <td>4</td>\n",
       "      <td>0.333333</td>\n",
       "      <td>...</td>\n",
       "      <td>1</td>\n",
       "      <td>0</td>\n",
       "      <td>0</td>\n",
       "      <td>0</td>\n",
       "      <td>0</td>\n",
       "      <td>0</td>\n",
       "      <td>0</td>\n",
       "      <td>0</td>\n",
       "      <td>0</td>\n",
       "      <td>0</td>\n",
       "    </tr>\n",
       "  </tbody>\n",
       "</table>\n",
       "<p>2 rows × 62 columns</p>\n",
       "</div>"
      ],
      "text/plain": [
       "   itemID  manufacturerID  price  customerID   age  delivery_time  accountAge  \\\n",
       "0    2347               1   89.9       12489  50.0            2.0         617   \n",
       "1    2741               1   99.9       12489  50.0            2.0         617   \n",
       "\n",
       "   orderYear  orderMonth  return_customerID  ...  state_Hesse  \\\n",
       "0       2013           4           0.333333  ...            1   \n",
       "1       2013           4           0.333333  ...            1   \n",
       "\n",
       "   state_Lower Saxony  state_Mecklenburg-Western Pomerania  \\\n",
       "0                   0                                    0   \n",
       "1                   0                                    0   \n",
       "\n",
       "   state_North Rhine-Westphalia  state_Rhineland-Palatinate  state_Saarland  \\\n",
       "0                             0                           0               0   \n",
       "1                             0                           0               0   \n",
       "\n",
       "   state_Saxony  state_Saxony-Anhalt  state_Schleswig-Holstein  \\\n",
       "0             0                    0                         0   \n",
       "1             0                    0                         0   \n",
       "\n",
       "   state_Thuringia  \n",
       "0                0  \n",
       "1                0  \n",
       "\n",
       "[2 rows x 62 columns]"
      ]
     },
     "execution_count": 2,
     "metadata": {},
     "output_type": "execute_result"
    }
   ],
   "source": [
    "df = pd.read_csv(\"C:\\\\Users\\\\Adin\\\\PYTHON\\\\klasifikasi\\\\dataset_test.csv\")\n",
    "df.head(2)"
   ]
  },
  {
   "cell_type": "markdown",
   "id": "7a935f1d",
   "metadata": {},
   "source": [
    "### Melihat data null"
   ]
  },
  {
   "cell_type": "code",
   "execution_count": 3,
   "id": "dff5b691",
   "metadata": {},
   "outputs": [
    {
     "name": "stdout",
     "output_type": "stream",
     "text": [
      "itemID                           0\n",
      "manufacturerID                   0\n",
      "price                            0\n",
      "customerID                       0\n",
      "age                              0\n",
      "delivery_time                    0\n",
      "accountAge                       0\n",
      "orderYear                        0\n",
      "orderMonth                       0\n",
      "return_customerID            17507\n",
      "not_return_customerID        17507\n",
      "return_deliveryTime              0\n",
      "not_return_deliveryTime          0\n",
      "return_itemID                   13\n",
      "not_return_itemID               13\n",
      "return_manufacturerID            0\n",
      "not_return_manufacturerID        0\n",
      "return_state                     0\n",
      "not_return_state                 0\n",
      "price_itemID                    13\n",
      "salutation_Company               0\n",
      "salutation_Family                0\n",
      "salutation_Mr                    0\n",
      "salutation_Mrs                   0\n",
      "salutation_not reported          0\n",
      "size_L                           0\n",
      "size_M                           0\n",
      "size_S                           0\n",
      "size_UNSIZED                     0\n",
      "size_XL                          0\n",
      "dtype: int64\n"
     ]
    }
   ],
   "source": [
    "cek = df.isna().sum()\n",
    "print(cek[:30])"
   ]
  },
  {
   "cell_type": "markdown",
   "id": "c22d6e5e",
   "metadata": {},
   "source": [
    "### Data baru pada data order_class diisi 0"
   ]
  },
  {
   "cell_type": "code",
   "execution_count": 4,
   "id": "9f98dfae",
   "metadata": {},
   "outputs": [],
   "source": [
    "df[\"return_customerID\"] = df[\"return_customerID\"].fillna(0)\n",
    "df[\"not_return_customerID\"] = df[\"not_return_customerID\"].fillna(0)\n",
    "df[\"return_itemID\"] = df[\"return_itemID\"].fillna(0)\n",
    "df[\"not_return_itemID\"] = df[\"not_return_itemID\"].fillna(0)\n",
    "df[\"price_itemID\"] = df[\"price_itemID\"].fillna(0)"
   ]
  },
  {
   "cell_type": "markdown",
   "id": "b631fc26",
   "metadata": {},
   "source": [
    "### Prediksi atribut returnShipment"
   ]
  },
  {
   "cell_type": "code",
   "execution_count": 5,
   "id": "90de79e9",
   "metadata": {},
   "outputs": [],
   "source": [
    "import pickle\n",
    "with open('C:\\\\Users\\\\Adin\\\\PYTHON\\\\klasifikasi\\\\hasil1_revisi.pickle', 'rb') as fp:\n",
    "     X_train_column = list(pickle.load(fp))\n",
    "df = df[X_train_column]\n",
    "df.columns\n",
    "\n",
    "import joblib\n",
    "clf = joblib.load(\"C:\\\\Users\\\\Adin\\\\PYTHON\\\\klasifikasi\\\\hasil1_revisi.joblib\")\n",
    "clf.predict(df)\n",
    "\n",
    "i = 1\n",
    "with open(\"C:\\\\Users\\\\Adin\\\\PYTHON\\\\klasifikasi\\\\orders_class.txt\", \"w\") as o:\n",
    "    print(\"{0};{1}\".format(\"orderItemID\", \"prediction\"), file = o)\n",
    "    for line in clf.predict(df):\n",
    "        print(\"{0};{1}\".format(i, line), file=o)\n",
    "        i+=1\n"
   ]
  },
  {
   "cell_type": "code",
   "execution_count": 6,
   "id": "a759271f",
   "metadata": {},
   "outputs": [
    {
     "data": {
      "text/plain": [
       "1    25995\n",
       "0    24083\n",
       "Name: prediction, dtype: int64"
      ]
     },
     "execution_count": 6,
     "metadata": {},
     "output_type": "execute_result"
    }
   ],
   "source": [
    "# Melihat hasil prediksi\n",
    "dfhasil = pd.read_table(\"C:\\\\Users\\\\Adin\\\\PYTHON\\\\klasifikasi\\\\orders_class.txt\", delimiter=\";\")\n",
    "dfhasil[\"prediction\"].value_counts()"
   ]
  }
 ],
 "metadata": {
  "kernelspec": {
   "display_name": "Python 3 (ipykernel)",
   "language": "python",
   "name": "python3"
  },
  "language_info": {
   "codemirror_mode": {
    "name": "ipython",
    "version": 3
   },
   "file_extension": ".py",
   "mimetype": "text/x-python",
   "name": "python",
   "nbconvert_exporter": "python",
   "pygments_lexer": "ipython3",
   "version": "3.9.12"
  }
 },
 "nbformat": 4,
 "nbformat_minor": 5
}
